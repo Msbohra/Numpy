{
  "nbformat": 4,
  "nbformat_minor": 0,
  "metadata": {
    "colab": {
      "provenance": [],
      "authorship_tag": "ABX9TyM1zg/G/Zp0UkddiRm3vvl7",
      "include_colab_link": true
    },
    "kernelspec": {
      "name": "python3",
      "display_name": "Python 3"
    },
    "language_info": {
      "name": "python"
    }
  },
  "cells": [
    {
      "cell_type": "markdown",
      "metadata": {
        "id": "view-in-github",
        "colab_type": "text"
      },
      "source": [
        "<a href=\"https://colab.research.google.com/github/Msbohra/Numpy/blob/main/NPS_Numpy_py.ipynb\" target=\"_parent\"><img src=\"https://colab.research.google.com/assets/colab-badge.svg\" alt=\"Open In Colab\"/></a>"
      ]
    },
    {
      "cell_type": "code",
      "execution_count": null,
      "metadata": {
        "colab": {
          "base_uri": "https://localhost:8080/"
        },
        "id": "cwrE3TmR9j0k",
        "outputId": "8e19be8e-3971-4d6f-da6b-f3c9d08246aa"
      },
      "outputs": [
        {
          "output_type": "stream",
          "name": "stdout",
          "text": [
            "Requirement already satisfied: numpy in /usr/local/lib/python3.10/dist-packages (1.26.4)\n"
          ]
        }
      ],
      "source": [
        "!pip install numpy"
      ]
    },
    {
      "cell_type": "code",
      "source": [
        "import numpy as np\n"
      ],
      "metadata": {
        "id": "EnDYqqqI9x4D"
      },
      "execution_count": null,
      "outputs": []
    },
    {
      "cell_type": "code",
      "source": [
        "a =  [1,2,3,4]"
      ],
      "metadata": {
        "id": "Mm4YaMp__Mdv"
      },
      "execution_count": null,
      "outputs": []
    },
    {
      "cell_type": "code",
      "source": [
        "for i in a:\n",
        "  print (i**2)\n"
      ],
      "metadata": {
        "id": "ArWMHP96_SFz",
        "outputId": "97067e27-c141-46bc-d4ef-b561d0b047e1",
        "colab": {
          "base_uri": "https://localhost:8080/"
        }
      },
      "execution_count": null,
      "outputs": [
        {
          "output_type": "stream",
          "name": "stdout",
          "text": [
            "1\n",
            "4\n",
            "9\n",
            "16\n"
          ]
        }
      ]
    },
    {
      "cell_type": "code",
      "source": [
        "b = [i**2 for i in a]"
      ],
      "metadata": {
        "id": "1EWop96Q_TtD"
      },
      "execution_count": null,
      "outputs": []
    },
    {
      "cell_type": "code",
      "source": [
        "b\n"
      ],
      "metadata": {
        "id": "ZfVnwGXc_jBA",
        "outputId": "084fadd6-8006-4f08-e505-3866e82ab379",
        "colab": {
          "base_uri": "https://localhost:8080/"
        }
      },
      "execution_count": null,
      "outputs": [
        {
          "output_type": "execute_result",
          "data": {
            "text/plain": [
              "[1, 4, 9, 16]"
            ]
          },
          "metadata": {},
          "execution_count": 8
        }
      ]
    },
    {
      "cell_type": "code",
      "source": [
        "np_a = np.array(a)"
      ],
      "metadata": {
        "id": "9rhPfZPt_pwy"
      },
      "execution_count": null,
      "outputs": []
    },
    {
      "cell_type": "code",
      "source": [
        "np_a\n"
      ],
      "metadata": {
        "id": "LDzV5YFh_4Cl",
        "outputId": "8121fdad-678a-4906-e85d-ba741e8e1165",
        "colab": {
          "base_uri": "https://localhost:8080/"
        }
      },
      "execution_count": null,
      "outputs": [
        {
          "output_type": "execute_result",
          "data": {
            "text/plain": [
              "array([1, 2, 3, 4])"
            ]
          },
          "metadata": {},
          "execution_count": 10
        }
      ]
    },
    {
      "cell_type": "code",
      "source": [
        "a"
      ],
      "metadata": {
        "id": "QIhtcGuW_6ns",
        "outputId": "ccc4cba4-7f47-44f8-8cf3-62ffe76fc418",
        "colab": {
          "base_uri": "https://localhost:8080/"
        }
      },
      "execution_count": null,
      "outputs": [
        {
          "output_type": "execute_result",
          "data": {
            "text/plain": [
              "[1, 2, 3, 4]"
            ]
          },
          "metadata": {},
          "execution_count": 11
        }
      ]
    },
    {
      "cell_type": "code",
      "source": [
        "type(a)mb\n"
      ],
      "metadata": {
        "id": "y0dwc8qEAF_6",
        "outputId": "80b792ce-41df-4447-8a89-b0ea0c87b345",
        "colab": {
          "base_uri": "https://localhost:8080/"
        }
      },
      "execution_count": null,
      "outputs": [
        {
          "output_type": "execute_result",
          "data": {
            "text/plain": [
              "list"
            ]
          },
          "metadata": {},
          "execution_count": 12
        }
      ]
    },
    {
      "cell_type": "code",
      "source": [
        "type(np_a)"
      ],
      "metadata": {
        "id": "BeyKDwUGALNU",
        "outputId": "c69c120a-b12e-4d9c-9375-1f8c603b12cd",
        "colab": {
          "base_uri": "https://localhost:8080/"
        }
      },
      "execution_count": null,
      "outputs": [
        {
          "output_type": "execute_result",
          "data": {
            "text/plain": [
              "numpy.ndarray"
            ]
          },
          "metadata": {},
          "execution_count": 13
        }
      ]
    },
    {
      "cell_type": "code",
      "source": [
        "np_a.shape"
      ],
      "metadata": {
        "id": "C38JLku3ASDZ",
        "outputId": "b7fe2a0a-f708-4bf5-dbc2-6028fe80c829",
        "colab": {
          "base_uri": "https://localhost:8080/"
        }
      },
      "execution_count": null,
      "outputs": [
        {
          "output_type": "execute_result",
          "data": {
            "text/plain": [
              "(4,)"
            ]
          },
          "metadata": {},
          "execution_count": 14
        }
      ]
    },
    {
      "cell_type": "markdown",
      "source": [
        "numpy is capable of having n dimensionl arrays\n"
      ],
      "metadata": {
        "id": "ZAMGbKA5Agof"
      }
    },
    {
      "cell_type": "code",
      "source": [
        "np_a.ndim"
      ],
      "metadata": {
        "id": "x6hmXydbAm1t",
        "outputId": "41d56701-a04f-456e-8e0a-4db0f91afa1a",
        "colab": {
          "base_uri": "https://localhost:8080/"
        }
      },
      "execution_count": null,
      "outputs": [
        {
          "output_type": "execute_result",
          "data": {
            "text/plain": [
              "1"
            ]
          },
          "metadata": {},
          "execution_count": 15
        }
      ]
    },
    {
      "cell_type": "code",
      "source": [
        "l = range(100000)"
      ],
      "metadata": {
        "id": "__UnmhGSCxgb"
      },
      "execution_count": null,
      "outputs": []
    },
    {
      "cell_type": "code",
      "source": [
        "%timeit [i**2 for i in l]"
      ],
      "metadata": {
        "id": "5LojIV4TC3Xy",
        "outputId": "b55f3f46-cac0-4799-fe7a-b065f30a4bc2",
        "colab": {
          "base_uri": "https://localhost:8080/"
        }
      },
      "execution_count": null,
      "outputs": [
        {
          "output_type": "stream",
          "name": "stdout",
          "text": [
            "40.7 ms ± 9.05 ms per loop (mean ± std. dev. of 7 runs, 10 loops each)\n"
          ]
        }
      ]
    },
    {
      "cell_type": "code",
      "source": [
        "np_l = np.array(l)"
      ],
      "metadata": {
        "id": "fyFZsJICDOik"
      },
      "execution_count": null,
      "outputs": []
    },
    {
      "cell_type": "code",
      "source": [
        "%timeit np_l**2"
      ],
      "metadata": {
        "id": "en51aH7MDqB_",
        "outputId": "788f4144-bd6e-4dd9-f2c6-dc90a730a32a",
        "colab": {
          "base_uri": "https://localhost:8080/"
        }
      },
      "execution_count": null,
      "outputs": [
        {
          "output_type": "stream",
          "name": "stdout",
          "text": [
            "64.6 µs ± 7.06 µs per loop (mean ± std. dev. of 7 runs, 10000 loops each)\n"
          ]
        }
      ]
    },
    {
      "cell_type": "code",
      "source": [
        "twod_np = np.array([ [1,2,3], [4,5,6]])"
      ],
      "metadata": {
        "id": "Iv4QpJR3ENOf"
      },
      "execution_count": null,
      "outputs": []
    },
    {
      "cell_type": "code",
      "source": [
        "twod_np"
      ],
      "metadata": {
        "id": "aTdqvqXWEWA1",
        "outputId": "0b349a53-f810-464b-bd44-82e7334eba55",
        "colab": {
          "base_uri": "https://localhost:8080/"
        }
      },
      "execution_count": null,
      "outputs": [
        {
          "output_type": "execute_result",
          "data": {
            "text/plain": [
              "array([[1, 2, 3],\n",
              "       [4, 5, 6]])"
            ]
          },
          "metadata": {},
          "execution_count": 26
        }
      ]
    },
    {
      "cell_type": "markdown",
      "source": [],
      "metadata": {
        "id": "Q35UgkD9FOVX"
      }
    },
    {
      "cell_type": "code",
      "source": [
        "np.array([1.2, 3.4, 3],dtype = 'int')"
      ],
      "metadata": {
        "id": "85cyBb1OEqa_",
        "outputId": "a33473cd-3cb5-42b2-a643-845ae6708c8e",
        "colab": {
          "base_uri": "https://localhost:8080/"
        }
      },
      "execution_count": null,
      "outputs": [
        {
          "output_type": "execute_result",
          "data": {
            "text/plain": [
              "array([1, 3, 3])"
            ]
          },
          "metadata": {},
          "execution_count": 28
        }
      ]
    },
    {
      "cell_type": "markdown",
      "source": [
        "ValueError: setting an array element with a sequence. The requested array has an inhomogeneous shape after 1 dimensions. The detected shape was (2,) + inhomogeneous part.\n",
        "\n",
        "np.array([[1,2],[3,4,5]])"
      ],
      "metadata": {
        "id": "LtZ1NQHqE037"
      }
    },
    {
      "cell_type": "code",
      "source": [
        "a = np.array([1,2,3,4])"
      ],
      "metadata": {
        "id": "mRZUlOIYE3Zb"
      },
      "execution_count": null,
      "outputs": []
    },
    {
      "cell_type": "code",
      "source": [
        "a.astype(float)"
      ],
      "metadata": {
        "id": "BUVLamSbFr5K",
        "outputId": "fe96e82e-2a85-420c-a6fc-173c8cae6715",
        "colab": {
          "base_uri": "https://localhost:8080/"
        }
      },
      "execution_count": null,
      "outputs": [
        {
          "output_type": "execute_result",
          "data": {
            "text/plain": [
              "array([1., 2., 3., 4.])"
            ]
          },
          "metadata": {},
          "execution_count": 30
        }
      ]
    },
    {
      "cell_type": "markdown",
      "source": [
        "to set the type of the data, after the array is creadted\n"
      ],
      "metadata": {
        "id": "tX2trO57GQPI"
      }
    },
    {
      "cell_type": "code",
      "source": [
        "m1 = np.arange(12)"
      ],
      "metadata": {
        "id": "Mso9vr-GGVL1"
      },
      "execution_count": null,
      "outputs": []
    },
    {
      "cell_type": "code",
      "source": [
        "m1"
      ],
      "metadata": {
        "id": "6_wtugKaGbve",
        "outputId": "d379b94b-b624-4ce7-f536-0b84dd4d4d4b",
        "colab": {
          "base_uri": "https://localhost:8080/"
        }
      },
      "execution_count": null,
      "outputs": [
        {
          "output_type": "execute_result",
          "data": {
            "text/plain": [
              "array([ 0,  1,  2,  3,  4,  5,  6,  7,  8,  9, 10, 11])"
            ]
          },
          "metadata": {},
          "execution_count": 33
        }
      ]
    },
    {
      "cell_type": "code",
      "source": [
        "l = range(0, 12,2 )"
      ],
      "metadata": {
        "id": "6smQYSepGs8z"
      },
      "execution_count": null,
      "outputs": []
    },
    {
      "cell_type": "code",
      "source": [
        "[i for i in l]"
      ],
      "metadata": {
        "id": "QYJifEuDGzj5",
        "outputId": "e2011ead-3be2-4128-be77-f3e356daeca4",
        "colab": {
          "base_uri": "https://localhost:8080/"
        }
      },
      "execution_count": null,
      "outputs": [
        {
          "output_type": "execute_result",
          "data": {
            "text/plain": [
              "[0, 2, 4, 6, 8, 10]"
            ]
          },
          "metadata": {},
          "execution_count": 35
        }
      ]
    },
    {
      "cell_type": "code",
      "source": [
        "m1[0]"
      ],
      "metadata": {
        "id": "MUm7hdoKG4Xi",
        "outputId": "5ed3f489-20e0-4b9e-bd63-a4a55044acc9",
        "colab": {
          "base_uri": "https://localhost:8080/"
        }
      },
      "execution_count": null,
      "outputs": [
        {
          "output_type": "execute_result",
          "data": {
            "text/plain": [
              "0"
            ]
          },
          "metadata": {},
          "execution_count": 36
        }
      ]
    },
    {
      "cell_type": "code",
      "source": [
        "m1[-2]"
      ],
      "metadata": {
        "id": "fZZisyV3H1D_",
        "outputId": "744026af-d03c-46d7-f88d-cf0efe7cac5a",
        "colab": {
          "base_uri": "https://localhost:8080/"
        }
      },
      "execution_count": null,
      "outputs": [
        {
          "output_type": "execute_result",
          "data": {
            "text/plain": [
              "10"
            ]
          },
          "metadata": {},
          "execution_count": 37
        }
      ]
    },
    {
      "cell_type": "code",
      "source": [
        "m1[[0,5]]"
      ],
      "metadata": {
        "id": "Yxuzrx9eH5_n",
        "outputId": "2c9607ca-ab21-4bf5-ab0a-69baa4d920ad",
        "colab": {
          "base_uri": "https://localhost:8080/"
        }
      },
      "execution_count": null,
      "outputs": [
        {
          "output_type": "execute_result",
          "data": {
            "text/plain": [
              "array([0, 5])"
            ]
          },
          "metadata": {},
          "execution_count": 38
        }
      ]
    },
    {
      "cell_type": "code",
      "source": [
        "m1 = np.array([100,200,400,500,700])"
      ],
      "metadata": {
        "id": "o_Z0SVHGItIt"
      },
      "execution_count": null,
      "outputs": []
    },
    {
      "cell_type": "code",
      "source": [
        "m1[[0,4,2]]"
      ],
      "metadata": {
        "id": "3yJG59v2I-RB",
        "outputId": "fba297f5-02e1-4f9c-b2a3-e87780cad463",
        "colab": {
          "base_uri": "https://localhost:8080/"
        }
      },
      "execution_count": null,
      "outputs": [
        {
          "output_type": "execute_result",
          "data": {
            "text/plain": [
              "array([100, 700, 400])"
            ]
          },
          "metadata": {},
          "execution_count": 40
        }
      ]
    },
    {
      "cell_type": "code",
      "source": [
        "m1[0:5]"
      ],
      "metadata": {
        "id": "UBBoFRVrJbbb",
        "outputId": "2ae38ad2-d933-48e6-992e-14c6a4bae1d2",
        "colab": {
          "base_uri": "https://localhost:8080/"
        }
      },
      "execution_count": null,
      "outputs": [
        {
          "output_type": "execute_result",
          "data": {
            "text/plain": [
              "array([100, 200, 400, 500, 700])"
            ]
          },
          "metadata": {},
          "execution_count": 42
        }
      ]
    },
    {
      "cell_type": "code",
      "source": [
        "m1[:3]"
      ],
      "metadata": {
        "id": "zu6Qo8uSLdLl",
        "outputId": "7e0e0768-cffe-438f-8ac5-7958a1d77ad8",
        "colab": {
          "base_uri": "https://localhost:8080/"
        }
      },
      "execution_count": null,
      "outputs": [
        {
          "output_type": "execute_result",
          "data": {
            "text/plain": [
              "array([100, 200, 400])"
            ]
          },
          "metadata": {},
          "execution_count": 43
        }
      ]
    },
    {
      "cell_type": "code",
      "source": [
        "m1[-3:-1]"
      ],
      "metadata": {
        "id": "GvIaednpNBid",
        "outputId": "a2d416e4-9546-4f06-d483-90a907495474",
        "colab": {
          "base_uri": "https://localhost:8080/"
        }
      },
      "execution_count": null,
      "outputs": [
        {
          "output_type": "execute_result",
          "data": {
            "text/plain": [
              "array([400, 500])"
            ]
          },
          "metadata": {},
          "execution_count": 44
        }
      ]
    },
    {
      "cell_type": "code",
      "source": [
        "m1 = np.array([0,0,1,2,3,4,5,6,7,8,9,10])\n",
        "m1<=6"
      ],
      "metadata": {
        "id": "5fbr55OLNvOm",
        "outputId": "ce10297d-af0c-408b-bc36-0ffae052c742",
        "colab": {
          "base_uri": "https://localhost:8080/"
        }
      },
      "execution_count": null,
      "outputs": [
        {
          "output_type": "execute_result",
          "data": {
            "text/plain": [
              "array([ True,  True,  True,  True,  True,  True,  True,  True, False,\n",
              "       False, False, False])"
            ]
          },
          "metadata": {},
          "execution_count": 45
        }
      ]
    },
    {
      "cell_type": "code",
      "source": [
        "m1[[ True,  True,  True,  True,  True,  True,  True,  True, False,\n",
        "       False, False, False]]"
      ],
      "metadata": {
        "id": "RpWxZuclOKon",
        "outputId": "bb6fd803-0783-4431-cddd-c8a6b8f95288",
        "colab": {
          "base_uri": "https://localhost:8080/"
        }
      },
      "execution_count": null,
      "outputs": [
        {
          "output_type": "execute_result",
          "data": {
            "text/plain": [
              "array([0, 0, 1, 2, 3, 4, 5, 6])"
            ]
          },
          "metadata": {},
          "execution_count": 46
        }
      ]
    },
    {
      "cell_type": "code",
      "source": [
        "m1[m1< 4]"
      ],
      "metadata": {
        "id": "Y1uAL98KOSjX",
        "outputId": "9baf200b-100b-40e9-c108-7585215d33fb",
        "colab": {
          "base_uri": "https://localhost:8080/"
        }
      },
      "execution_count": null,
      "outputs": [
        {
          "output_type": "execute_result",
          "data": {
            "text/plain": [
              "array([0, 0, 1, 2, 3])"
            ]
          },
          "metadata": {},
          "execution_count": 47
        }
      ]
    },
    {
      "cell_type": "code",
      "source": [
        "m1 [m1%2 ==0]"
      ],
      "metadata": {
        "id": "hGi7TvD8Ogka",
        "outputId": "304c5e91-db99-4e5c-d87c-10f6b18d6d56",
        "colab": {
          "base_uri": "https://localhost:8080/"
        }
      },
      "execution_count": null,
      "outputs": [
        {
          "output_type": "execute_result",
          "data": {
            "text/plain": [
              "array([ 0,  0,  2,  4,  6,  8, 10])"
            ]
          },
          "metadata": {},
          "execution_count": 48
        }
      ]
    },
    {
      "cell_type": "code",
      "source": [
        "#NPS\n"
      ],
      "metadata": {
        "id": "XGtRFV8PQBbF"
      },
      "execution_count": null,
      "outputs": []
    },
    {
      "cell_type": "code",
      "source": [
        "score = np.loadtxt(\"survey.txt\",dtype= \"int\")"
      ],
      "metadata": {
        "id": "nhsETKcZQG-8"
      },
      "execution_count": null,
      "outputs": []
    },
    {
      "cell_type": "code",
      "source": [
        "score"
      ],
      "metadata": {
        "id": "Aepj4YD8QbhL",
        "outputId": "c7cf1576-5766-4903-9802-0204721ea395",
        "colab": {
          "base_uri": "https://localhost:8080/"
        }
      },
      "execution_count": null,
      "outputs": [
        {
          "output_type": "execute_result",
          "data": {
            "text/plain": [
              "array([ 7, 10,  5, ...,  5,  9, 10])"
            ]
          },
          "metadata": {},
          "execution_count": 51
        }
      ]
    },
    {
      "cell_type": "code",
      "source": [
        "type(score)"
      ],
      "metadata": {
        "id": "8M_dT788QhCy",
        "outputId": "7684bcd4-3c35-4cf1-9fde-3652da14b645",
        "colab": {
          "base_uri": "https://localhost:8080/"
        }
      },
      "execution_count": null,
      "outputs": [
        {
          "output_type": "execute_result",
          "data": {
            "text/plain": [
              "numpy.ndarray"
            ]
          },
          "metadata": {},
          "execution_count": 52
        }
      ]
    },
    {
      "cell_type": "code",
      "source": [
        "score[0]"
      ],
      "metadata": {
        "id": "05QNK4ryQjl6",
        "outputId": "01daabb6-fb4b-4cc7-bd87-97792993ac7c",
        "colab": {
          "base_uri": "https://localhost:8080/"
        }
      },
      "execution_count": null,
      "outputs": [
        {
          "output_type": "execute_result",
          "data": {
            "text/plain": [
              "7"
            ]
          },
          "metadata": {},
          "execution_count": 53
        }
      ]
    },
    {
      "cell_type": "code",
      "source": [
        "score.shape"
      ],
      "metadata": {
        "id": "BjjQ7BygQnF4",
        "outputId": "5b5cbf68-b090-44e3-b87e-f302d502b349",
        "colab": {
          "base_uri": "https://localhost:8080/"
        }
      },
      "execution_count": null,
      "outputs": [
        {
          "output_type": "execute_result",
          "data": {
            "text/plain": [
              "(1167,)"
            ]
          },
          "metadata": {},
          "execution_count": 54
        }
      ]
    },
    {
      "cell_type": "code",
      "source": [
        "score.ndim"
      ],
      "metadata": {
        "id": "NwDrU8_TQqF-",
        "outputId": "551538ef-2ffa-4689-823e-c45770f4bc3b",
        "colab": {
          "base_uri": "https://localhost:8080/"
        }
      },
      "execution_count": null,
      "outputs": [
        {
          "output_type": "execute_result",
          "data": {
            "text/plain": [
              "1"
            ]
          },
          "metadata": {},
          "execution_count": 55
        }
      ]
    },
    {
      "cell_type": "code",
      "source": [
        "#NPS = %PROMOTOR - %DETRACTORS"
      ],
      "metadata": {
        "id": "xrxZKj0MQsY7"
      },
      "execution_count": null,
      "outputs": []
    },
    {
      "cell_type": "code",
      "source": [
        "DETRACTORS = score[score <= 6]"
      ],
      "metadata": {
        "id": "vA9SEiCdQ6Vr"
      },
      "execution_count": null,
      "outputs": []
    },
    {
      "cell_type": "code",
      "source": [
        "PROMOTORS = score[score>= 9]"
      ],
      "metadata": {
        "id": "KsdpCltrRIdx"
      },
      "execution_count": null,
      "outputs": []
    },
    {
      "cell_type": "code",
      "source": [
        "PROMOTORS.shape"
      ],
      "metadata": {
        "id": "ioQFQ4_8RO7i",
        "outputId": "ed645fc6-6593-415f-c7d5-8dfcddd6e9a9",
        "colab": {
          "base_uri": "https://localhost:8080/"
        }
      },
      "execution_count": null,
      "outputs": [
        {
          "output_type": "execute_result",
          "data": {
            "text/plain": [
              "(609,)"
            ]
          },
          "metadata": {},
          "execution_count": 64
        }
      ]
    },
    {
      "cell_type": "code",
      "source": [
        "DETRACTORS.shape"
      ],
      "metadata": {
        "id": "YEVJCIz2RT27",
        "outputId": "b3cd8893-1328-4b6b-d337-0f78c9eb22f9",
        "colab": {
          "base_uri": "https://localhost:8080/"
        }
      },
      "execution_count": null,
      "outputs": [
        {
          "output_type": "execute_result",
          "data": {
            "text/plain": [
              "(332,)"
            ]
          },
          "metadata": {},
          "execution_count": 65
        }
      ]
    },
    {
      "cell_type": "code",
      "source": [
        "num_promotors = len(PROMOTORS)"
      ],
      "metadata": {
        "id": "CM1jBjCjRvVL"
      },
      "execution_count": null,
      "outputs": []
    },
    {
      "cell_type": "code",
      "source": [
        "num_detractors = len(DETRACTORS)"
      ],
      "metadata": {
        "id": "4B9SBaWvR2Zn"
      },
      "execution_count": null,
      "outputs": []
    },
    {
      "cell_type": "code",
      "source": [
        "total = len(score)"
      ],
      "metadata": {
        "id": "7xiqzjP8R-qj"
      },
      "execution_count": null,
      "outputs": []
    },
    {
      "cell_type": "code",
      "source": [
        "percentage_promotors = (num_promotors/ total)*100"
      ],
      "metadata": {
        "id": "IpYNErBmSEGC"
      },
      "execution_count": null,
      "outputs": []
    },
    {
      "cell_type": "code",
      "source": [
        "percentage_detractors = (num_detractors/ total)*100"
      ],
      "metadata": {
        "id": "1Irwgf4eSPR7"
      },
      "execution_count": null,
      "outputs": []
    },
    {
      "cell_type": "code",
      "source": [
        "nps = percentage_promotors - percentage_detractors"
      ],
      "metadata": {
        "id": "POE01HflSjWY"
      },
      "execution_count": null,
      "outputs": []
    },
    {
      "cell_type": "code",
      "source": [
        "nps"
      ],
      "metadata": {
        "id": "_KEC5ye3StP2",
        "outputId": "fe96ca79-f980-4917-b310-6e5a269cc1ea",
        "colab": {
          "base_uri": "https://localhost:8080/"
        }
      },
      "execution_count": null,
      "outputs": [
        {
          "output_type": "execute_result",
          "data": {
            "text/plain": [
              "23.73607540702657"
            ]
          },
          "metadata": {},
          "execution_count": 76
        }
      ]
    }
  ]
}